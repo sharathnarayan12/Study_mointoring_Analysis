{
 "cells": [
  {
   "cell_type": "markdown",
   "metadata": {},
   "source": [
    "Import and install dep"
   ]
  },
  {
   "cell_type": "code",
   "execution_count": 7,
   "metadata": {},
   "outputs": [
    {
     "name": "stdout",
     "output_type": "stream",
     "text": [
      "done___ ready\n"
     ]
    }
   ],
   "source": [
    "\n",
    "#collecting bunch of data from keypoints from mediapipe holistic\n",
    "#The MediaPipe Holistic Landmarker task lets you combine components of the pose, face, and hand landmarkers to create a complete landmarker for the human body. You can use this task to analyze full-body gestures, poses, and actions.\n",
    "import cv2\n",
    "import mediapipe as mp\n",
    "import sklearn as sk\n",
    "import matplotlib.pyplot as plt\n",
    "import os , time , pandas as pd ,numpy as np\n",
    "\n",
    "print(\"done___ ready\")\n"
   ]
  },
  {
   "cell_type": "markdown",
   "metadata": {},
   "source": [
    "Keyppoint using Mp holistic"
   ]
  },
  {
   "cell_type": "code",
   "execution_count": 45,
   "metadata": {},
   "outputs": [],
   "source": [
    "mp_holistic = mp.solutions.holistic # Holistic model\n",
    "mp_drawing = mp.solutions.drawing_utils # Drawing utilities"
   ]
  },
  {
   "cell_type": "markdown",
   "metadata": {},
   "source": [
    "mediapipe function to detect media pipe"
   ]
  },
  {
   "cell_type": "code",
   "execution_count": 44,
   "metadata": {},
   "outputs": [],
   "source": [
    "def mediapipe_detection(image, model):\n",
    "    image = cv2.cvtColor(image, cv2.COLOR_BGR2RGB) # COLOR CONVERSION BGR 2 RGB\n",
    "    image.flags.writeable = False                  # Image is no longer writeable\n",
    "    results = model.process(image)                 # Make prediction\n",
    "    image.flags.writeable = True                   # Image is now writeable \n",
    "    image = cv2.cvtColor(image, cv2.COLOR_RGB2BGR) # COLOR COVERSION RGB 2 BGR\n",
    "    return image, results"
   ]
  },
  {
   "cell_type": "code",
   "execution_count": 43,
   "metadata": {},
   "outputs": [],
   "source": [
    "def draw_landmarks(image, results):\n",
    "    mp_drawing.draw_landmarks(image, results.face_landmarks,mp_holistic.FACEMESH_TESSELATION) # Draw face connections\n",
    "    mp_drawing.draw_landmarks(image, results.pose_landmarks, mp_holistic.POSE_CONNECTIONS) # Draw pose connections\n",
    "    mp_drawing.draw_landmarks(image, results.left_hand_landmarks, mp_holistic.HAND_CONNECTIONS) # Draw left hand connections\n",
    "    mp_drawing.draw_landmarks(image, results.right_hand_landmarks, mp_holistic.HAND_CONNECTIONS) # Draw right hand connecti"
   ]
  },
  {
   "cell_type": "code",
   "execution_count": null,
   "metadata": {},
   "outputs": [],
   "source": [
    "cap = cv2.VideoCapture(0)\n",
    "# Set mediapipe model \n",
    "with mp_holistic.Holistic(min_detection_confidence=0.5, min_tracking_confidence=0.5) as holistic:\n",
    "    while cap.isOpened():\n",
    "\n",
    "        # Read feed\n",
    "        ret, frame = cap.read()\n",
    "\n",
    "        # Make detections\n",
    "        image, results = mediapipe_detection(frame, holistic)\n",
    "        print(results)\n",
    "        \n",
    "        # # Draw landmarks\n",
    "        # draw_styled_landmarks(image, results)\n",
    "\n",
    "        # Show to screen\n",
    "        cv2.imshow('OpenCV Feed', image)\n",
    "\n",
    "        # Break gracefully\n",
    "        if cv2.waitKey(10) & 0xFF == ord('q'):\n",
    "            break\n",
    "    cap.release()\n",
    "    cv2.destroyAllWindows()"
   ]
  },
  {
   "cell_type": "code",
   "execution_count": null,
   "metadata": {},
   "outputs": [],
   "source": [
    "results.face_landmarks.landmark"
   ]
  },
  {
   "cell_type": "code",
   "execution_count": null,
   "metadata": {},
   "outputs": [],
   "source": [
    "#last frame\n",
    "frame"
   ]
  },
  {
   "cell_type": "code",
   "execution_count": null,
   "metadata": {},
   "outputs": [],
   "source": [
    "draw_landmarks(frame, results)"
   ]
  },
  {
   "cell_type": "code",
   "execution_count": null,
   "metadata": {},
   "outputs": [],
   "source": [
    "plt.imshow(cv2.cvtColor(frame, cv2.COLOR_BGR2RGB))"
   ]
  },
  {
   "cell_type": "code",
   "execution_count": null,
   "metadata": {},
   "outputs": [],
   "source": [
    "mp_drawing.DrawingSpec??"
   ]
  },
  {
   "cell_type": "code",
   "execution_count": 42,
   "metadata": {},
   "outputs": [],
   "source": [
    "def draw_styled_landmarks(image, results):\n",
    "    # Draw face connections\n",
    "    mp_drawing.draw_landmarks(image, results.face_landmarks, mp_holistic.FACEMESH_CONTOURS,\n",
    "                             mp_drawing.DrawingSpec(color=(80,110,10), thickness=1, circle_radius=1), \n",
    "                             mp_drawing.DrawingSpec(color=(80,256,121), thickness=1, circle_radius=1)\n",
    "                             ) \n",
    "    # Draw pose connections\n",
    "    mp_drawing.draw_landmarks(image, results.pose_landmarks, mp_holistic.POSE_CONNECTIONS,\n",
    "                             mp_drawing.DrawingSpec(color=(80,22,10), thickness=2, circle_radius=4), \n",
    "                             mp_drawing.DrawingSpec(color=(80,44,121), thickness=2, circle_radius=2)\n",
    "                             ) \n",
    "    # Draw left hand connections\n",
    "    mp_drawing.draw_landmarks(image, results.left_hand_landmarks, mp_holistic.HAND_CONNECTIONS,\n",
    "                             mp_drawing.DrawingSpec(color=(121,22,76), thickness=2, circle_radius=4), \n",
    "                             mp_drawing.DrawingSpec(color=(121,44,250), thickness=2, circle_radius=2)\n",
    "                             ) \n",
    "    # Draw right hand connections  \n",
    "    mp_drawing.draw_landmarks(image, results.right_hand_landmarks, mp_holistic.HAND_CONNECTIONS,\n",
    "                             mp_drawing.DrawingSpec(color=(245,117,66), thickness=2, circle_radius=4), \n",
    "                             mp_drawing.DrawingSpec(color=(245,66,230), thickness=2, circle_radius=2)\n",
    "                             ) "
   ]
  },
  {
   "cell_type": "markdown",
   "metadata": {},
   "source": [
    "combineing all the function in one parameter"
   ]
  },
  {
   "cell_type": "code",
   "execution_count": null,
   "metadata": {},
   "outputs": [],
   "source": [
    "cap = cv2.VideoCapture(0)\n",
    "# Set mediapipe model \n",
    "with mp_holistic.Holistic(min_detection_confidence=0.5, min_tracking_confidence=0.5) as holistic:\n",
    "    while cap.isOpened():\n",
    "\n",
    "        # Read feed\n",
    "        ret, frame = cap.read()\n",
    "\n",
    "        # Make detections\n",
    "        image, results = mediapipe_detection(frame, holistic)\n",
    "        print(results)\n",
    "        \n",
    "        # # Draw landmarks\n",
    "        draw_styled_landmarks(image,results)\n",
    "        # draw_landmarks(image, results)\n",
    "\n",
    "        # Show to screen\n",
    "        cv2.imshow('OpenCV Feed', image)\n",
    "\n",
    "        # Break gracefully\n",
    "        if cv2.waitKey(10) & 0xFF == ord('q'):\n",
    "            break\n",
    "    cap.release()\n",
    "    cv2.destroyAllWindows()"
   ]
  },
  {
   "cell_type": "markdown",
   "metadata": {},
   "source": [
    "Extraction of KeyPoints Values"
   ]
  },
  {
   "cell_type": "code",
   "execution_count": null,
   "metadata": {},
   "outputs": [],
   "source": [
    "len(results.pose_landmarks.landmark)"
   ]
  },
  {
   "cell_type": "markdown",
   "metadata": {},
   "source": [
    "keypoints detect Pose_land mark"
   ]
  },
  {
   "cell_type": "code",
   "execution_count": null,
   "metadata": {},
   "outputs": [],
   "source": [
    "pose=[]\n",
    "for res in results.pose_landmarks.landmark:\n",
    "    pos_arr=np.array([res.x,res.y,res.z,res.visibility])\n",
    "    pose.append(pos_arr)"
   ]
  },
  {
   "cell_type": "code",
   "execution_count": null,
   "metadata": {},
   "outputs": [],
   "source": [
    "pos_arr"
   ]
  },
  {
   "cell_type": "markdown",
   "metadata": {},
   "source": [
    "same things as to do for All landmarks so"
   ]
  },
  {
   "cell_type": "markdown",
   "metadata": {},
   "source": [
    "Again we are matcing landmark with oversampling or add some zeros to landmarks SO , we can ,match to all landmarks ( replace to blind zero array of data)"
   ]
  },
  {
   "cell_type": "code",
   "execution_count": null,
   "metadata": {},
   "outputs": [],
   "source": [
    "left_hand_landmark=np.array([[res.x,res.y,res.z]for res in results.left_hand_landmarks.landmarks]).flatten() if results.left_hand_landmarks else np.zeros(1140)"
   ]
  },
  {
   "cell_type": "code",
   "execution_count": null,
   "metadata": {},
   "outputs": [],
   "source": [
    "pose = np.array([[res.x, res.y, res.z, res.visibility] for res in results.pose_landmarks.landmark]).flatten() if results.pose_landmarks else np.zeros(132)\n",
    "face = np.array([[res.x, res.y, res.z] for res in results.face_landmarks.landmark]).flatten() if results.face_landmarks else np.zeros(1404)\n",
    "lh = np.array([[res.x, res.y, res.z] for res in results.left_hand_landmarks.landmark]).flatten() if results.left_hand_landmarks else np.zeros(21*3)\n",
    "rh = np.array([[res.x, res.y, res.z] for res in results.right_hand_landmarks.landmark]).flatten() if results.right_hand_landmarks else np.zero(21*3)"
   ]
  },
  {
   "cell_type": "code",
   "execution_count": 40,
   "metadata": {},
   "outputs": [],
   "source": [
    "\n",
    "def extract_keypoints(results):\n",
    "    pose = np.array([[res.x, res.y, res.z, res.visibility] for res in results.pose_landmarks.landmark]).flatten() if results.pose_landmarks else np.zeros(33*4)\n",
    "    face = np.array([[res.x, res.y, res.z] for res in results.face_landmarks.landmark]).flatten() if results.face_landmarks else np.zeros(468*3)\n",
    "    lh = np.array([[res.x, res.y, res.z] for res in results.left_hand_landmarks.landmark]).flatten() if results.left_hand_landmarks else np.zeros(21*3)\n",
    "    rh = np.array([[res.x, res.y, res.z] for res in results.right_hand_landmarks.landmark]).flatten() if results.right_hand_landmarks else np.zeros(21*3)\n",
    "    return np.concatenate([pose, face, lh, rh])"
   ]
  },
  {
   "cell_type": "code",
   "execution_count": null,
   "metadata": {},
   "outputs": [],
   "source": [
    "result_test = extract_keypoints(results)"
   ]
  },
  {
   "cell_type": "markdown",
   "metadata": {},
   "source": [
    "Data_logging for extraction of KEY POINTS DatA "
   ]
  },
  {
   "cell_type": "code",
   "execution_count": 12,
   "metadata": {},
   "outputs": [],
   "source": [
    "# Path for exported data, numpy arrays\n",
    "DATA_PATH = os.path.join('Study_Data') \n",
    "\n",
    "# Actions that we try to detect\n",
    "actions = np.array(['sleeping', 'reading', 'useing_mobile'])\n",
    "\n",
    "# Thirty videos worth of data\n",
    "no_sequences = 30\n",
    "\n",
    "# Videos are going to be 30 frames in length\n",
    "sequence_length = 30\n",
    "\n",
    "# Folder start\n",
    "start_folder = 30"
   ]
  },
  {
   "cell_type": "markdown",
   "metadata": {},
   "source": [
    "collecting a data with 30FPS with actions"
   ]
  },
  {
   "cell_type": "markdown",
   "metadata": {},
   "source": [
    "#three each folder for actions "
   ]
  },
  {
   "cell_type": "code",
   "execution_count": 13,
   "metadata": {},
   "outputs": [],
   "source": [
    "for action in actions: \n",
    "    # dirmax = np.max(np.array(os.listdir(os.path.join(DATA_PATH, action))).astype(int))\n",
    "    for sequence in range(no_sequences):\n",
    "        try: \n",
    "            os.makedirs(os.path.join(DATA_PATH, action, str(sequence)))\n",
    "        except:\n",
    "            pass"
   ]
  },
  {
   "cell_type": "markdown",
   "metadata": {},
   "source": [
    "Data_loggging script"
   ]
  },
  {
   "cell_type": "code",
   "execution_count": null,
   "metadata": {},
   "outputs": [],
   "source": [
    "cap = cv2.VideoCapture(0)\n",
    "# Set mediapipe model \n",
    "with mp_holistic.Holistic(min_detection_confidence=0.5, min_tracking_confidence=0.5) as holistic:\n",
    "    \n",
    "    # NEW LOOP\n",
    "    # Loop through actions\n",
    "    for action in actions:\n",
    "        # Loop through sequences aka videos\n",
    "        for sequence in range(start_folder, start_folder+no_sequences):\n",
    "            # Loop through video length aka sequence length\n",
    "            for frame_num in range(sequence_length):\n",
    "\n",
    "                # Read feed\n",
    "                ret, frame = cap.read()\n",
    "\n",
    "                # Make detections\n",
    "                image, results = mediapipe_detection(frame, holistic)\n",
    "\n",
    "                # Draw landmarks\n",
    "                draw_styled_landmarks(image, results)\n",
    "                \n",
    "                # NEW Apply wait logic\n",
    "                if frame_num == 0: \n",
    "                    cv2.putText(image, 'STARTING COLLECTION', (120,200), \n",
    "                               cv2.FONT_HERSHEY_SIMPLEX, 1, (0,255, 0), 4, cv2.LINE_AA)\n",
    "                    cv2.putText(image, 'Collecting frames for {} Video Number {}'.format(action, sequence), (15,12), \n",
    "                               cv2.FONT_HERSHEY_SIMPLEX, 0.5, (0, 0, 255), 1, cv2.LINE_AA)\n",
    "                    # Show to screen\n",
    "                    cv2.imshow('OpenCV Feed', image)\n",
    "                    cv2.waitKey(500)\n",
    "                else: \n",
    "                    cv2.putText(image, 'Collecting frames for {} Video Number {}'.format(action, sequence), (15,12), \n",
    "                               cv2.FONT_HERSHEY_SIMPLEX, 0.5, (0, 0, 255), 1, cv2.LINE_AA)\n",
    "                    # Show to screen\n",
    "                    cv2.imshow('OpenCV Feed', image)\n",
    "                \n",
    "                # NEW Export keypoints\n",
    "                keypoints = extract_keypoints(results)\n",
    "                npy_path = os.path.join(DATA_PATH, action, str(sequence), str(frame_num))\n",
    "                np.save(npy_path, keypoints)\n",
    "\n",
    "                # Break gracefully\n",
    "                if cv2.waitKey(10) & 0xFF == ord('q'):\n",
    "                    break\n",
    "                    \n",
    "    cap.release()\n",
    "    cv2.destroyAllWindows()"
   ]
  },
  {
   "cell_type": "code",
   "execution_count": null,
   "metadata": {},
   "outputs": [],
   "source": [
    "cap.release()\n",
    "cv2.destroyAllWindows()"
   ]
  },
  {
   "cell_type": "markdown",
   "metadata": {},
   "source": [
    "Preprocessing  of Data and Create labels and Features"
   ]
  },
  {
   "cell_type": "code",
   "execution_count": 14,
   "metadata": {},
   "outputs": [],
   "source": [
    "from sklearn.model_selection import train_test_split\n",
    "from tensorflow.keras.utils import to_categorical"
   ]
  },
  {
   "cell_type": "code",
   "execution_count": 15,
   "metadata": {},
   "outputs": [],
   "source": [
    "label_map = {label:num for num, label in enumerate(actions)}"
   ]
  },
  {
   "cell_type": "code",
   "execution_count": 16,
   "metadata": {},
   "outputs": [
    {
     "data": {
      "text/plain": [
       "{'sleeping': 0, 'reading': 1, 'useing_mobile': 2}"
      ]
     },
     "execution_count": 16,
     "metadata": {},
     "output_type": "execute_result"
    }
   ],
   "source": [
    "label_map"
   ]
  },
  {
   "cell_type": "markdown",
   "metadata": {},
   "source": [
    "added data to two list and fectecing data from Data_path"
   ]
  },
  {
   "cell_type": "code",
   "execution_count": 17,
   "metadata": {},
   "outputs": [],
   "source": [
    "sequences, labels = [], []\n",
    "for action in actions:\n",
    "    for sequence in np.array(os.listdir(os.path.join(DATA_PATH, action))).astype(int):\n",
    "        window = []\n",
    "        for frame_num in range(sequence_length):\n",
    "            res = np.load(os.path.join(DATA_PATH, action, str(sequence), \"{}.npy\".format(frame_num)))\n",
    "            window.append(res)\n",
    "        sequences.append(window)\n",
    "        labels.append(label_map[action])"
   ]
  },
  {
   "cell_type": "markdown",
   "metadata": {},
   "source": [
    "check the shape of sq and labels "
   ]
  },
  {
   "cell_type": "code",
   "execution_count": 18,
   "metadata": {},
   "outputs": [
    {
     "data": {
      "text/plain": [
       "(90, 30, 1662)"
      ]
     },
     "execution_count": 18,
     "metadata": {},
     "output_type": "execute_result"
    }
   ],
   "source": [
    "# sequences\n",
    "np.array(sequences).shape"
   ]
  },
  {
   "cell_type": "code",
   "execution_count": 19,
   "metadata": {},
   "outputs": [
    {
     "data": {
      "text/plain": [
       "(90,)"
      ]
     },
     "execution_count": 19,
     "metadata": {},
     "output_type": "execute_result"
    }
   ],
   "source": [
    "# labels\n",
    "np.array(labels).shape"
   ]
  },
  {
   "cell_type": "markdown",
   "metadata": {},
   "source": [
    "#Split Data into x and Y train "
   ]
  },
  {
   "cell_type": "code",
   "execution_count": 20,
   "metadata": {},
   "outputs": [
    {
     "data": {
      "text/plain": [
       "(90, 30, 1662)"
      ]
     },
     "execution_count": 20,
     "metadata": {},
     "output_type": "execute_result"
    }
   ],
   "source": [
    "X = np.array(sequences)\n",
    "y = to_categorical(labels).astype(int)\n",
    "X.shape"
   ]
  },
  {
   "cell_type": "code",
   "execution_count": 21,
   "metadata": {},
   "outputs": [],
   "source": [
    "X_train, X_test, y_train, y_test = train_test_split(X, y, test_size=0.05)"
   ]
  },
  {
   "cell_type": "code",
   "execution_count": 22,
   "metadata": {},
   "outputs": [
    {
     "data": {
      "text/plain": [
       "(5, 3)"
      ]
     },
     "execution_count": 22,
     "metadata": {},
     "output_type": "execute_result"
    }
   ],
   "source": [
    "y_test.shape"
   ]
  },
  {
   "cell_type": "markdown",
   "metadata": {},
   "source": [
    "Build a nueral net to Train LSTM Nueral net"
   ]
  },
  {
   "cell_type": "code",
   "execution_count": 23,
   "metadata": {},
   "outputs": [],
   "source": [
    "from tensorflow.keras.models import Sequential\n",
    "from tensorflow.keras.layers import LSTM, Dense,Dropout\n",
    "from tensorflow.keras.callbacks import TensorBoard\n",
    "log_dir = os.path.join('Logs')\n",
    "tb_callback = TensorBoard(log_dir=log_dir)"
   ]
  },
  {
   "cell_type": "code",
   "execution_count": null,
   "metadata": {},
   "outputs": [],
   "source": [
    "model = Sequential()\n",
    "model.add(LSTM(64, return_sequences=True, activation='relu', input_shape=(30,1662)))\n",
    "model.add(LSTM(128, return_sequences=True, activation='relu'))\n",
    "model.add(LSTM(64, return_sequences=False, activation='relu'))\n",
    "model.add(Dense(64, activation='relu'))\n",
    "model.add(Dense(32, activation='relu'))\n",
    "model.add(Dense(actions.shape[0], activation='softmax'))\n",
    "\n"
   ]
  },
  {
   "cell_type": "code",
   "execution_count": null,
   "metadata": {},
   "outputs": [
    {
     "name": "stdout",
     "output_type": "stream",
     "text": [
      "WARNING:tensorflow:From c:\\Users\\sharath.narayanaswam\\Anaconda3\\envs\\batman\\lib\\site-packages\\keras\\src\\optimizers\\__init__.py:309: The name tf.train.Optimizer is deprecated. Please use tf.compat.v1.train.Optimizer instead.\n",
      "\n"
     ]
    }
   ],
   "source": [
    "model.compile(optimizer='Adam', loss='categorical_crossentropy', metrics=['categorical_accuracy'])"
   ]
  },
  {
   "cell_type": "code",
   "execution_count": null,
   "metadata": {},
   "outputs": [
    {
     "name": "stdout",
     "output_type": "stream",
     "text": [
      "Epoch 1/173\n"
     ]
    },
    {
     "name": "stdout",
     "output_type": "stream",
     "text": [
      "WARNING:tensorflow:From c:\\Users\\sharath.narayanaswam\\Anaconda3\\envs\\batman\\lib\\site-packages\\keras\\src\\utils\\tf_utils.py:492: The name tf.ragged.RaggedTensorValue is deprecated. Please use tf.compat.v1.ragged.RaggedTensorValue instead.\n",
      "\n",
      "WARNING:tensorflow:From c:\\Users\\sharath.narayanaswam\\Anaconda3\\envs\\batman\\lib\\site-packages\\keras\\src\\engine\\base_layer_utils.py:384: The name tf.executing_eagerly_outside_functions is deprecated. Please use tf.compat.v1.executing_eagerly_outside_functions instead.\n",
      "\n",
      "3/3 [==============================] - 5s 62ms/step - loss: 2.2025 - categorical_accuracy: 0.3059\n",
      "Epoch 2/173\n",
      "3/3 [==============================] - 0s 53ms/step - loss: 4.4661 - categorical_accuracy: 0.6235\n",
      "Epoch 3/173\n",
      "3/3 [==============================] - 0s 52ms/step - loss: 2.2486 - categorical_accuracy: 0.6118\n",
      "Epoch 4/173\n",
      "3/3 [==============================] - 0s 49ms/step - loss: 3.2176 - categorical_accuracy: 0.5765\n",
      "Epoch 5/173\n",
      "3/3 [==============================] - 0s 48ms/step - loss: 2.6169 - categorical_accuracy: 0.5294\n",
      "Epoch 6/173\n",
      "3/3 [==============================] - 0s 52ms/step - loss: 6.4142 - categorical_accuracy: 0.4000\n",
      "Epoch 7/173\n",
      "3/3 [==============================] - 0s 48ms/step - loss: 6.9531 - categorical_accuracy: 0.3529\n",
      "Epoch 8/173\n",
      "3/3 [==============================] - 0s 49ms/step - loss: 8.0797 - categorical_accuracy: 0.4706\n",
      "Epoch 9/173\n",
      "3/3 [==============================] - 0s 50ms/step - loss: 8.1201 - categorical_accuracy: 0.4941\n",
      "Epoch 10/173\n",
      "3/3 [==============================] - 0s 49ms/step - loss: 9.6810 - categorical_accuracy: 0.5882\n",
      "Epoch 11/173\n",
      "3/3 [==============================] - 0s 48ms/step - loss: 12.8010 - categorical_accuracy: 0.4706\n",
      "Epoch 12/173\n",
      "3/3 [==============================] - 0s 49ms/step - loss: 12.5721 - categorical_accuracy: 0.4000\n",
      "Epoch 13/173\n",
      "3/3 [==============================] - 0s 50ms/step - loss: 9.0188 - categorical_accuracy: 0.4588\n",
      "Epoch 14/173\n",
      "3/3 [==============================] - 0s 54ms/step - loss: 7.8846 - categorical_accuracy: 0.5059\n",
      "Epoch 15/173\n",
      "3/3 [==============================] - 0s 48ms/step - loss: 6.0491 - categorical_accuracy: 0.4588\n",
      "Epoch 16/173\n",
      "3/3 [==============================] - 0s 50ms/step - loss: 4.3564 - categorical_accuracy: 0.3412\n",
      "Epoch 17/173\n",
      "3/3 [==============================] - 0s 50ms/step - loss: 4.3851 - categorical_accuracy: 0.3176\n",
      "Epoch 18/173\n",
      "3/3 [==============================] - 0s 50ms/step - loss: 9.4274 - categorical_accuracy: 0.3059\n",
      "Epoch 19/173\n",
      "3/3 [==============================] - 0s 53ms/step - loss: 14.3160 - categorical_accuracy: 0.2118\n",
      "Epoch 20/173\n",
      "3/3 [==============================] - 0s 51ms/step - loss: 9.1862 - categorical_accuracy: 0.3294\n",
      "Epoch 21/173\n",
      "3/3 [==============================] - 0s 48ms/step - loss: 7.1020 - categorical_accuracy: 0.2353\n",
      "Epoch 22/173\n",
      "3/3 [==============================] - 0s 49ms/step - loss: 10.1761 - categorical_accuracy: 0.4118\n",
      "Epoch 23/173\n",
      "3/3 [==============================] - 0s 52ms/step - loss: 18.6632 - categorical_accuracy: 0.3294\n",
      "Epoch 24/173\n",
      "3/3 [==============================] - 0s 54ms/step - loss: 15.4916 - categorical_accuracy: 0.4000\n",
      "Epoch 25/173\n",
      "3/3 [==============================] - 0s 50ms/step - loss: 12.7557 - categorical_accuracy: 0.4706\n",
      "Epoch 26/173\n",
      "3/3 [==============================] - 0s 53ms/step - loss: 6.1021 - categorical_accuracy: 0.5294\n",
      "Epoch 27/173\n",
      "3/3 [==============================] - 0s 50ms/step - loss: 11.7605 - categorical_accuracy: 0.5294\n",
      "Epoch 28/173\n",
      "3/3 [==============================] - 0s 53ms/step - loss: 29.0905 - categorical_accuracy: 0.3412\n",
      "Epoch 29/173\n",
      "3/3 [==============================] - 0s 52ms/step - loss: 36.0735 - categorical_accuracy: 0.3529\n",
      "Epoch 30/173\n",
      "3/3 [==============================] - 0s 50ms/step - loss: 24.4025 - categorical_accuracy: 0.3647\n",
      "Epoch 31/173\n",
      "3/3 [==============================] - 0s 50ms/step - loss: 14.5638 - categorical_accuracy: 0.3176\n",
      "Epoch 32/173\n",
      "3/3 [==============================] - 0s 48ms/step - loss: 17.5835 - categorical_accuracy: 0.3765\n",
      "Epoch 33/173\n",
      "3/3 [==============================] - 0s 50ms/step - loss: 31.6833 - categorical_accuracy: 0.3059\n",
      "Epoch 34/173\n",
      "3/3 [==============================] - 0s 49ms/step - loss: 20.9158 - categorical_accuracy: 0.3529\n",
      "Epoch 35/173\n",
      "3/3 [==============================] - 0s 48ms/step - loss: 20.1222 - categorical_accuracy: 0.2588\n",
      "Epoch 36/173\n",
      "3/3 [==============================] - 0s 52ms/step - loss: 25.0619 - categorical_accuracy: 0.1529\n",
      "Epoch 37/173\n",
      "3/3 [==============================] - 0s 48ms/step - loss: 23.3151 - categorical_accuracy: 0.2588\n",
      "Epoch 38/173\n",
      "3/3 [==============================] - 0s 48ms/step - loss: 11.0631 - categorical_accuracy: 0.3059\n",
      "Epoch 39/173\n",
      "3/3 [==============================] - 0s 50ms/step - loss: 11.9038 - categorical_accuracy: 0.2353\n",
      "Epoch 40/173\n",
      "3/3 [==============================] - 0s 50ms/step - loss: 38.1605 - categorical_accuracy: 0.2941\n",
      "Epoch 41/173\n",
      "3/3 [==============================] - 0s 49ms/step - loss: 34.5884 - categorical_accuracy: 0.3529\n",
      "Epoch 42/173\n",
      "3/3 [==============================] - 0s 49ms/step - loss: 232.4598 - categorical_accuracy: 0.2706\n",
      "Epoch 43/173\n",
      "3/3 [==============================] - 0s 48ms/step - loss: 103.8969 - categorical_accuracy: 0.3176\n",
      "Epoch 44/173\n",
      "3/3 [==============================] - 0s 57ms/step - loss: 51.0245 - categorical_accuracy: 0.3412\n",
      "Epoch 45/173\n",
      "3/3 [==============================] - 0s 50ms/step - loss: 72.4375 - categorical_accuracy: 0.5059\n",
      "Epoch 46/173\n",
      "3/3 [==============================] - 0s 52ms/step - loss: 113.0214 - categorical_accuracy: 0.3059\n",
      "Epoch 47/173\n",
      "3/3 [==============================] - 0s 50ms/step - loss: 54.4700 - categorical_accuracy: 0.4824\n",
      "Epoch 48/173\n",
      "3/3 [==============================] - 0s 48ms/step - loss: 39.5583 - categorical_accuracy: 0.3294\n",
      "Epoch 49/173\n",
      "3/3 [==============================] - 0s 50ms/step - loss: 75.7942 - categorical_accuracy: 0.3176\n",
      "Epoch 50/173\n",
      "3/3 [==============================] - 0s 51ms/step - loss: 70.2820 - categorical_accuracy: 0.3412\n",
      "Epoch 51/173\n",
      "3/3 [==============================] - 0s 49ms/step - loss: 43.0481 - categorical_accuracy: 0.4000\n",
      "Epoch 52/173\n",
      "3/3 [==============================] - 0s 53ms/step - loss: 27.4519 - categorical_accuracy: 0.5765\n",
      "Epoch 53/173\n",
      "3/3 [==============================] - 0s 51ms/step - loss: 20.2045 - categorical_accuracy: 0.4235\n",
      "Epoch 54/173\n",
      "3/3 [==============================] - 0s 57ms/step - loss: 11.7809 - categorical_accuracy: 0.4000\n",
      "Epoch 55/173\n",
      "3/3 [==============================] - 0s 50ms/step - loss: 8.8780 - categorical_accuracy: 0.3882\n",
      "Epoch 56/173\n",
      "3/3 [==============================] - 0s 53ms/step - loss: 11.6479 - categorical_accuracy: 0.4471\n",
      "Epoch 57/173\n",
      "3/3 [==============================] - 0s 51ms/step - loss: 25.1299 - categorical_accuracy: 0.4118\n",
      "Epoch 58/173\n",
      "3/3 [==============================] - 0s 50ms/step - loss: 24.6434 - categorical_accuracy: 0.4000\n",
      "Epoch 59/173\n",
      "3/3 [==============================] - 0s 51ms/step - loss: 32.8109 - categorical_accuracy: 0.3529\n",
      "Epoch 60/173\n",
      "3/3 [==============================] - 0s 52ms/step - loss: 21.3815 - categorical_accuracy: 0.4353\n",
      "Epoch 61/173\n",
      "3/3 [==============================] - 0s 49ms/step - loss: 29.1403 - categorical_accuracy: 0.3412\n",
      "Epoch 62/173\n",
      "3/3 [==============================] - 0s 51ms/step - loss: 36.3528 - categorical_accuracy: 0.2706\n",
      "Epoch 63/173\n",
      "3/3 [==============================] - 0s 49ms/step - loss: 39.4570 - categorical_accuracy: 0.3529\n",
      "Epoch 64/173\n",
      "3/3 [==============================] - 0s 51ms/step - loss: 40.7172 - categorical_accuracy: 0.3176\n",
      "Epoch 65/173\n",
      "3/3 [==============================] - 0s 49ms/step - loss: 28.9130 - categorical_accuracy: 0.3529\n",
      "Epoch 66/173\n",
      "3/3 [==============================] - 0s 52ms/step - loss: 16.5663 - categorical_accuracy: 0.3176\n",
      "Epoch 67/173\n",
      "3/3 [==============================] - 0s 51ms/step - loss: 19.7930 - categorical_accuracy: 0.4588\n",
      "Epoch 68/173\n",
      "3/3 [==============================] - 0s 50ms/step - loss: 8.8816 - categorical_accuracy: 0.4235\n",
      "Epoch 69/173\n",
      "3/3 [==============================] - 0s 56ms/step - loss: 16.5783 - categorical_accuracy: 0.3529\n",
      "Epoch 70/173\n",
      "3/3 [==============================] - 0s 52ms/step - loss: 18.6716 - categorical_accuracy: 0.3294\n",
      "Epoch 71/173\n",
      "3/3 [==============================] - 0s 47ms/step - loss: 9.2338 - categorical_accuracy: 0.3412\n",
      "Epoch 72/173\n",
      "3/3 [==============================] - 0s 51ms/step - loss: 4.4405 - categorical_accuracy: 0.4941\n",
      "Epoch 73/173\n",
      "3/3 [==============================] - 0s 50ms/step - loss: 5.8903 - categorical_accuracy: 0.4235\n",
      "Epoch 74/173\n",
      "3/3 [==============================] - 0s 51ms/step - loss: 13.1446 - categorical_accuracy: 0.4000\n",
      "Epoch 75/173\n",
      "3/3 [==============================] - 0s 51ms/step - loss: 14.8361 - categorical_accuracy: 0.3882\n",
      "Epoch 76/173\n",
      "3/3 [==============================] - 0s 51ms/step - loss: 7.8320 - categorical_accuracy: 0.5765\n",
      "Epoch 77/173\n",
      "3/3 [==============================] - 0s 49ms/step - loss: 16.9109 - categorical_accuracy: 0.5529\n",
      "Epoch 78/173\n",
      "3/3 [==============================] - 0s 49ms/step - loss: 8.8661 - categorical_accuracy: 0.5059\n",
      "Epoch 79/173\n",
      "3/3 [==============================] - 0s 50ms/step - loss: 6.3472 - categorical_accuracy: 0.5059\n",
      "Epoch 80/173\n",
      "3/3 [==============================] - 0s 52ms/step - loss: 3.1250 - categorical_accuracy: 0.5882\n",
      "Epoch 81/173\n",
      "3/3 [==============================] - 0s 49ms/step - loss: 2.2780 - categorical_accuracy: 0.6118\n",
      "Epoch 82/173\n",
      "3/3 [==============================] - 0s 52ms/step - loss: 4.7391 - categorical_accuracy: 0.5882\n",
      "Epoch 83/173\n",
      "3/3 [==============================] - 0s 52ms/step - loss: 3.0638 - categorical_accuracy: 0.6118\n",
      "Epoch 84/173\n",
      "3/3 [==============================] - 0s 57ms/step - loss: 2.3336 - categorical_accuracy: 0.6118\n",
      "Epoch 85/173\n",
      "3/3 [==============================] - 0s 51ms/step - loss: 1.8337 - categorical_accuracy: 0.5882\n",
      "Epoch 86/173\n",
      "3/3 [==============================] - 0s 50ms/step - loss: 1.9681 - categorical_accuracy: 0.6235\n",
      "Epoch 87/173\n",
      "3/3 [==============================] - 0s 57ms/step - loss: 3.7313 - categorical_accuracy: 0.5647\n",
      "Epoch 88/173\n",
      "3/3 [==============================] - 0s 54ms/step - loss: 5.8270 - categorical_accuracy: 0.5529\n",
      "Epoch 89/173\n",
      "3/3 [==============================] - 0s 56ms/step - loss: 5.0359 - categorical_accuracy: 0.5882\n",
      "Epoch 90/173\n",
      "3/3 [==============================] - 0s 50ms/step - loss: 7.5177 - categorical_accuracy: 0.6000\n",
      "Epoch 91/173\n",
      "3/3 [==============================] - 0s 50ms/step - loss: 5.7025 - categorical_accuracy: 0.6471\n",
      "Epoch 92/173\n",
      "3/3 [==============================] - 0s 52ms/step - loss: 2.4728 - categorical_accuracy: 0.5882\n",
      "Epoch 93/173\n",
      "3/3 [==============================] - 0s 50ms/step - loss: 2.7804 - categorical_accuracy: 0.6588\n",
      "Epoch 94/173\n",
      "3/3 [==============================] - 0s 51ms/step - loss: 3.0885 - categorical_accuracy: 0.6235\n",
      "Epoch 95/173\n",
      "3/3 [==============================] - 0s 54ms/step - loss: 3.1882 - categorical_accuracy: 0.6235\n",
      "Epoch 96/173\n",
      "3/3 [==============================] - 0s 51ms/step - loss: 3.0408 - categorical_accuracy: 0.6824\n",
      "Epoch 97/173\n",
      "3/3 [==============================] - 0s 52ms/step - loss: 5.8841 - categorical_accuracy: 0.6471\n",
      "Epoch 98/173\n",
      "3/3 [==============================] - 0s 54ms/step - loss: 7.6778 - categorical_accuracy: 0.6000\n",
      "Epoch 99/173\n",
      "3/3 [==============================] - 0s 51ms/step - loss: 5.5147 - categorical_accuracy: 0.4824\n",
      "Epoch 100/173\n",
      "3/3 [==============================] - 0s 52ms/step - loss: 9.5307 - categorical_accuracy: 0.3412\n",
      "Epoch 101/173\n",
      "3/3 [==============================] - 0s 51ms/step - loss: 10.8038 - categorical_accuracy: 0.4000\n",
      "Epoch 102/173\n",
      "3/3 [==============================] - 0s 50ms/step - loss: 7.4965 - categorical_accuracy: 0.4118\n",
      "Epoch 103/173\n",
      "3/3 [==============================] - 0s 50ms/step - loss: 8.2319 - categorical_accuracy: 0.4471\n",
      "Epoch 104/173\n",
      "3/3 [==============================] - 0s 51ms/step - loss: 7.1056 - categorical_accuracy: 0.6235\n",
      "Epoch 105/173\n",
      "3/3 [==============================] - 0s 49ms/step - loss: 9.3256 - categorical_accuracy: 0.4588\n",
      "Epoch 106/173\n",
      "3/3 [==============================] - 0s 51ms/step - loss: 4.5331 - categorical_accuracy: 0.6471\n",
      "Epoch 107/173\n",
      "3/3 [==============================] - 0s 49ms/step - loss: 5.6516 - categorical_accuracy: 0.5647\n",
      "Epoch 108/173\n",
      "3/3 [==============================] - 0s 48ms/step - loss: 3.7319 - categorical_accuracy: 0.5882\n",
      "Epoch 109/173\n",
      "3/3 [==============================] - 0s 51ms/step - loss: 2.1999 - categorical_accuracy: 0.5882\n",
      "Epoch 110/173\n",
      "3/3 [==============================] - 0s 49ms/step - loss: 2.3629 - categorical_accuracy: 0.6235\n",
      "Epoch 111/173\n",
      "3/3 [==============================] - 0s 48ms/step - loss: 2.5198 - categorical_accuracy: 0.6000\n",
      "Epoch 112/173\n",
      "3/3 [==============================] - 0s 53ms/step - loss: 2.1829 - categorical_accuracy: 0.6353\n",
      "Epoch 113/173\n",
      "3/3 [==============================] - 0s 49ms/step - loss: 3.5044 - categorical_accuracy: 0.6353\n",
      "Epoch 114/173\n",
      "3/3 [==============================] - 0s 49ms/step - loss: 2.6537 - categorical_accuracy: 0.5412\n",
      "Epoch 115/173\n",
      "3/3 [==============================] - 0s 49ms/step - loss: 7.7507 - categorical_accuracy: 0.6353\n",
      "Epoch 116/173\n",
      "3/3 [==============================] - 0s 51ms/step - loss: 6.0174 - categorical_accuracy: 0.5647\n",
      "Epoch 117/173\n",
      "3/3 [==============================] - 0s 50ms/step - loss: 8.2999 - categorical_accuracy: 0.5529\n",
      "Epoch 118/173\n",
      "3/3 [==============================] - 0s 49ms/step - loss: 7.9019 - categorical_accuracy: 0.6353\n",
      "Epoch 119/173\n",
      "3/3 [==============================] - 0s 49ms/step - loss: 6.7020 - categorical_accuracy: 0.6353\n",
      "Epoch 120/173\n",
      "3/3 [==============================] - 0s 49ms/step - loss: 6.1131 - categorical_accuracy: 0.5647\n",
      "Epoch 121/173\n",
      "3/3 [==============================] - 0s 49ms/step - loss: 5.1311 - categorical_accuracy: 0.4471\n",
      "Epoch 122/173\n",
      "3/3 [==============================] - 0s 50ms/step - loss: 7.4200 - categorical_accuracy: 0.3882\n",
      "Epoch 123/173\n",
      "3/3 [==============================] - 0s 48ms/step - loss: 7.9972 - categorical_accuracy: 0.4235\n",
      "Epoch 124/173\n",
      "3/3 [==============================] - 0s 48ms/step - loss: 5.9882 - categorical_accuracy: 0.4118\n",
      "Epoch 125/173\n",
      "3/3 [==============================] - 0s 51ms/step - loss: 4.4272 - categorical_accuracy: 0.4824\n",
      "Epoch 126/173\n",
      "3/3 [==============================] - 0s 52ms/step - loss: 3.0425 - categorical_accuracy: 0.5176\n",
      "Epoch 127/173\n",
      "3/3 [==============================] - 0s 48ms/step - loss: 3.7054 - categorical_accuracy: 0.3882\n",
      "Epoch 128/173\n",
      "3/3 [==============================] - 0s 48ms/step - loss: 2.5219 - categorical_accuracy: 0.6118\n",
      "Epoch 129/173\n",
      "3/3 [==============================] - 0s 50ms/step - loss: 3.1251 - categorical_accuracy: 0.5294\n",
      "Epoch 130/173\n",
      "3/3 [==============================] - 0s 49ms/step - loss: 3.8230 - categorical_accuracy: 0.4353\n",
      "Epoch 131/173\n",
      "3/3 [==============================] - 0s 50ms/step - loss: 3.6991 - categorical_accuracy: 0.5294\n",
      "Epoch 132/173\n",
      "3/3 [==============================] - 0s 56ms/step - loss: 1.5644 - categorical_accuracy: 0.6235\n",
      "Epoch 133/173\n",
      "3/3 [==============================] - 0s 50ms/step - loss: 2.0629 - categorical_accuracy: 0.6118\n",
      "Epoch 134/173\n",
      "3/3 [==============================] - 0s 51ms/step - loss: 2.2498 - categorical_accuracy: 0.6588\n",
      "Epoch 135/173\n",
      "3/3 [==============================] - 0s 55ms/step - loss: 3.5674 - categorical_accuracy: 0.4471\n",
      "Epoch 136/173\n",
      "3/3 [==============================] - 0s 50ms/step - loss: 2.2156 - categorical_accuracy: 0.6235\n",
      "Epoch 137/173\n",
      "3/3 [==============================] - 0s 51ms/step - loss: 2.5528 - categorical_accuracy: 0.6353\n",
      "Epoch 138/173\n",
      "3/3 [==============================] - 0s 49ms/step - loss: 2.0031 - categorical_accuracy: 0.6000\n",
      "Epoch 139/173\n",
      "3/3 [==============================] - 0s 57ms/step - loss: 3.2461 - categorical_accuracy: 0.4118\n",
      "Epoch 140/173\n",
      "3/3 [==============================] - 0s 52ms/step - loss: 1.7774 - categorical_accuracy: 0.5647\n",
      "Epoch 141/173\n",
      "3/3 [==============================] - 0s 48ms/step - loss: 3.6039 - categorical_accuracy: 0.4941\n",
      "Epoch 142/173\n",
      "3/3 [==============================] - 0s 50ms/step - loss: 3.2179 - categorical_accuracy: 0.5529\n",
      "Epoch 143/173\n",
      "3/3 [==============================] - 0s 50ms/step - loss: 6.8438 - categorical_accuracy: 0.4118\n",
      "Epoch 144/173\n",
      "3/3 [==============================] - 0s 50ms/step - loss: 9.8383 - categorical_accuracy: 0.4000\n",
      "Epoch 145/173\n",
      "3/3 [==============================] - 0s 49ms/step - loss: 5.6986 - categorical_accuracy: 0.3647\n",
      "Epoch 146/173\n",
      "3/3 [==============================] - 0s 50ms/step - loss: 3.3865 - categorical_accuracy: 0.6118\n",
      "Epoch 147/173\n",
      "3/3 [==============================] - 0s 51ms/step - loss: 1.5605 - categorical_accuracy: 0.6235\n",
      "Epoch 148/173\n",
      "3/3 [==============================] - 0s 49ms/step - loss: 2.1599 - categorical_accuracy: 0.6706\n",
      "Epoch 149/173\n",
      "3/3 [==============================] - 0s 51ms/step - loss: 1.7275 - categorical_accuracy: 0.5647\n",
      "Epoch 150/173\n",
      "3/3 [==============================] - 0s 50ms/step - loss: 2.0565 - categorical_accuracy: 0.5882\n",
      "Epoch 151/173\n",
      "3/3 [==============================] - 0s 48ms/step - loss: 2.9031 - categorical_accuracy: 0.6471\n",
      "Epoch 152/173\n",
      "3/3 [==============================] - 0s 55ms/step - loss: 2.3796 - categorical_accuracy: 0.6471\n",
      "Epoch 153/173\n",
      "3/3 [==============================] - 0s 49ms/step - loss: 2.7776 - categorical_accuracy: 0.5765\n",
      "Epoch 154/173\n",
      "3/3 [==============================] - 0s 50ms/step - loss: 3.4881 - categorical_accuracy: 0.5647\n",
      "Epoch 155/173\n",
      "3/3 [==============================] - 0s 48ms/step - loss: 2.7406 - categorical_accuracy: 0.6471\n",
      "Epoch 156/173\n",
      "3/3 [==============================] - 0s 51ms/step - loss: 1.9054 - categorical_accuracy: 0.7059\n",
      "Epoch 157/173\n",
      "3/3 [==============================] - 0s 49ms/step - loss: 1.7999 - categorical_accuracy: 0.6353\n",
      "Epoch 158/173\n",
      "3/3 [==============================] - 0s 48ms/step - loss: 2.1548 - categorical_accuracy: 0.6588\n",
      "Epoch 159/173\n",
      "3/3 [==============================] - 0s 50ms/step - loss: 2.1028 - categorical_accuracy: 0.6000\n",
      "Epoch 160/173\n",
      "3/3 [==============================] - 0s 51ms/step - loss: 1.8488 - categorical_accuracy: 0.6471\n",
      "Epoch 161/173\n",
      "3/3 [==============================] - 0s 49ms/step - loss: 1.3329 - categorical_accuracy: 0.6941\n",
      "Epoch 162/173\n",
      "3/3 [==============================] - 0s 52ms/step - loss: 1.3313 - categorical_accuracy: 0.6118\n",
      "Epoch 163/173\n",
      "3/3 [==============================] - 0s 51ms/step - loss: 1.6285 - categorical_accuracy: 0.6706\n",
      "Epoch 164/173\n",
      "3/3 [==============================] - 0s 49ms/step - loss: 1.6806 - categorical_accuracy: 0.6471\n",
      "Epoch 165/173\n",
      "3/3 [==============================] - 0s 49ms/step - loss: 1.5270 - categorical_accuracy: 0.6471\n",
      "Epoch 166/173\n",
      "3/3 [==============================] - 0s 54ms/step - loss: 1.7680 - categorical_accuracy: 0.6353\n",
      "Epoch 167/173\n",
      "3/3 [==============================] - 0s 53ms/step - loss: 1.5685 - categorical_accuracy: 0.5176\n",
      "Epoch 168/173\n",
      "3/3 [==============================] - 0s 47ms/step - loss: 1.5250 - categorical_accuracy: 0.5647\n",
      "Epoch 169/173\n",
      "3/3 [==============================] - 0s 51ms/step - loss: 1.5020 - categorical_accuracy: 0.6824\n",
      "Epoch 170/173\n",
      "3/3 [==============================] - 0s 51ms/step - loss: 1.2125 - categorical_accuracy: 0.6706\n",
      "Epoch 171/173\n",
      "3/3 [==============================] - 0s 51ms/step - loss: 1.9153 - categorical_accuracy: 0.6588\n",
      "Epoch 172/173\n",
      "3/3 [==============================] - 0s 50ms/step - loss: 1.8642 - categorical_accuracy: 0.6118\n",
      "Epoch 173/173\n",
      "3/3 [==============================] - 0s 50ms/step - loss: 1.0776 - categorical_accuracy: 0.6706\n"
     ]
    },
    {
     "data": {
      "text/plain": [
       "<keras.src.callbacks.History at 0x1ea2c7bca90>"
      ]
     },
     "execution_count": 26,
     "metadata": {},
     "output_type": "execute_result"
    }
   ],
   "source": [
    "model.fit(X_train, y_train, epochs=173, callbacks=[tb_callback])\n"
   ]
  },
  {
   "cell_type": "markdown",
   "metadata": {},
   "source": [
    "Predicitions"
   ]
  },
  {
   "cell_type": "code",
   "execution_count": null,
   "metadata": {},
   "outputs": [
    {
     "name": "stdout",
     "output_type": "stream",
     "text": [
      "1/1 [==============================] - 1s 611ms/step\n"
     ]
    }
   ],
   "source": [
    "res = model.predict(X_test)"
   ]
  },
  {
   "cell_type": "code",
   "execution_count": null,
   "metadata": {},
   "outputs": [
    {
     "data": {
      "text/plain": [
       "'reading'"
      ]
     },
     "execution_count": 28,
     "metadata": {},
     "output_type": "execute_result"
    }
   ],
   "source": [
    "actions[np.argmax(res[2])]"
   ]
  },
  {
   "cell_type": "code",
   "execution_count": null,
   "metadata": {},
   "outputs": [
    {
     "data": {
      "text/plain": [
       "'useing_mobile'"
      ]
     },
     "execution_count": 29,
     "metadata": {},
     "output_type": "execute_result"
    }
   ],
   "source": [
    "actions[np.argmax(y_test[2])]"
   ]
  },
  {
   "cell_type": "code",
   "execution_count": null,
   "metadata": {},
   "outputs": [
    {
     "name": "stdout",
     "output_type": "stream",
     "text": [
      "Model: \"sequential_1\"\n",
      "_________________________________________________________________\n",
      " Layer (type)                Output Shape              Param #   \n",
      "=================================================================\n",
      " lstm_3 (LSTM)               (None, 30, 64)            442112    \n",
      "                                                                 \n",
      " lstm_4 (LSTM)               (None, 30, 128)           98816     \n",
      "                                                                 \n",
      " lstm_5 (LSTM)               (None, 64)                49408     \n",
      "                                                                 \n",
      " dense_2 (Dense)             (None, 64)                4160      \n",
      "                                                                 \n",
      " dense_3 (Dense)             (None, 32)                2080      \n",
      "                                                                 \n",
      " dense_4 (Dense)             (None, 3)                 99        \n",
      "                                                                 \n",
      "=================================================================\n",
      "Total params: 596675 (2.28 MB)\n",
      "Trainable params: 596675 (2.28 MB)\n",
      "Non-trainable params: 0 (0.00 Byte)\n",
      "_________________________________________________________________\n"
     ]
    }
   ],
   "source": [
    "\n",
    "model.summary()"
   ]
  },
  {
   "cell_type": "markdown",
   "metadata": {},
   "source": [
    "Save_weights"
   ]
  },
  {
   "cell_type": "code",
   "execution_count": null,
   "metadata": {},
   "outputs": [
    {
     "ename": "NameError",
     "evalue": "name 'model' is not defined",
     "output_type": "error",
     "traceback": [
      "\u001b[1;31m---------------------------------------------------------------------------\u001b[0m",
      "\u001b[1;31mNameError\u001b[0m                                 Traceback (most recent call last)",
      "\u001b[1;32mc:\\Users\\sharath.narayanaswam\\Desktop\\Body_Pos_detection\\Student_body_position_detection\\Study_detection.ipynb Cell 60\u001b[0m line \u001b[0;36m<cell line: 1>\u001b[1;34m()\u001b[0m\n\u001b[1;32m----> <a href='vscode-notebook-cell:/c%3A/Users/sharath.narayanaswam/Desktop/Body_Pos_detection/Student_body_position_detection/Study_detection.ipynb#Y122sZmlsZQ%3D%3D?line=0'>1</a>\u001b[0m model\u001b[39m.\u001b[39msave(\u001b[39m'\u001b[39m\u001b[39mStudy_prediction.h5\u001b[39m\u001b[39m'\u001b[39m)\n",
      "\u001b[1;31mNameError\u001b[0m: name 'model' is not defined"
     ]
    }
   ],
   "source": [
    "# model.save('Study_prediction.h5')\n",
    "\n"
   ]
  },
  {
   "cell_type": "code",
   "execution_count": null,
   "metadata": {},
   "outputs": [
    {
     "ename": "NameError",
     "evalue": "name 'model' is not defined",
     "output_type": "error",
     "traceback": [
      "\u001b[1;31m---------------------------------------------------------------------------\u001b[0m",
      "\u001b[1;31mNameError\u001b[0m                                 Traceback (most recent call last)",
      "\u001b[1;32mc:\\Users\\sharath.narayanaswam\\Desktop\\Body_Pos_detection\\Student_body_position_detection\\Study_detection.ipynb Cell 62\u001b[0m line \u001b[0;36m<cell line: 1>\u001b[1;34m()\u001b[0m\n\u001b[1;32m----> <a href='vscode-notebook-cell:/c%3A/Users/sharath.narayanaswam/Desktop/Body_Pos_detection/Student_body_position_detection/Study_detection.ipynb#Y134sZmlsZQ%3D%3D?line=0'>1</a>\u001b[0m model\u001b[39m.\u001b[39mload_weights(\u001b[39mr\u001b[39m\u001b[39m'\u001b[39m\u001b[39mC:\u001b[39m\u001b[39m\\\u001b[39m\u001b[39mUsers\u001b[39m\u001b[39m\\\u001b[39m\u001b[39msharath.narayanaswam\u001b[39m\u001b[39m\\\u001b[39m\u001b[39mDesktop\u001b[39m\u001b[39m\\\u001b[39m\u001b[39mBody_Pos_detection\u001b[39m\u001b[39m\\\u001b[39m\u001b[39mStudent_body_position_detection\u001b[39m\u001b[39m\\\u001b[39m\u001b[39mStudy_prediction.h5\u001b[39m\u001b[39m'\u001b[39m)\n",
      "\u001b[1;31mNameError\u001b[0m: name 'model' is not defined"
     ]
    }
   ],
   "source": [
    "model.load_weights('Study_prediction.h5')"
   ]
  },
  {
   "cell_type": "markdown",
   "metadata": {},
   "source": [
    " Evaluation using Confusion Matrix and Accuracy"
   ]
  },
  {
   "cell_type": "code",
   "execution_count": null,
   "metadata": {},
   "outputs": [
    {
     "name": "stdout",
     "output_type": "stream",
     "text": [
      "1/1 [==============================] - 0s 42ms/step\n"
     ]
    },
    {
     "data": {
      "text/plain": [
       "0.8"
      ]
     },
     "execution_count": 80,
     "metadata": {},
     "output_type": "execute_result"
    }
   ],
   "source": [
    "from sklearn.metrics import multilabel_confusion_matrix, accuracy_score\n",
    "yhat = model.predict(X_test)\n",
    "ytrue = np.argmax(y_test, axis=1).tolist()\n",
    "yhat = np.argmax(yhat, axis=1).tolist()\n",
    "multilabel_confusion_matrix(ytrue, yhat)\n",
    "accuracy_score(ytrue, yhat)"
   ]
  },
  {
   "cell_type": "markdown",
   "metadata": {},
   "source": [
    "Detection"
   ]
  },
  {
   "cell_type": "code",
   "execution_count": null,
   "metadata": {},
   "outputs": [],
   "source": [
    "from scipy import stats\n",
    "colors = [(245,117,16), (117,245,16), (16,117,245)]\n",
    "def prob_viz(res, actions, input_frame, colors):\n",
    "    output_frame = input_frame.copy()\n",
    "    for num, prob in enumerate(res):\n",
    "        cv2.rectangle(output_frame, (0,60+num*40), (int(prob*100), 90+num*40), colors[num], -1)\n",
    "        cv2.putText(output_frame, actions[num], (0, 85+num*40), cv2.FONT_HERSHEY_SIMPLEX, 1, (255,255,255), 2, cv2.LINE_AA)\n",
    "        \n",
    "    return output_frame"
   ]
  },
  {
   "cell_type": "code",
   "execution_count": null,
   "metadata": {},
   "outputs": [
    {
     "name": "stdout",
     "output_type": "stream",
     "text": [
      "<class 'mediapipe.python.solution_base.SolutionOutputs'>\n",
      "<class 'mediapipe.python.solution_base.SolutionOutputs'>\n",
      "<class 'mediapipe.python.solution_base.SolutionOutputs'>\n",
      "<class 'mediapipe.python.solution_base.SolutionOutputs'>\n",
      "<class 'mediapipe.python.solution_base.SolutionOutputs'>\n",
      "<class 'mediapipe.python.solution_base.SolutionOutputs'>\n",
      "<class 'mediapipe.python.solution_base.SolutionOutputs'>\n",
      "<class 'mediapipe.python.solution_base.SolutionOutputs'>\n",
      "<class 'mediapipe.python.solution_base.SolutionOutputs'>\n",
      "<class 'mediapipe.python.solution_base.SolutionOutputs'>\n",
      "<class 'mediapipe.python.solution_base.SolutionOutputs'>\n",
      "<class 'mediapipe.python.solution_base.SolutionOutputs'>\n",
      "<class 'mediapipe.python.solution_base.SolutionOutputs'>\n",
      "<class 'mediapipe.python.solution_base.SolutionOutputs'>\n",
      "<class 'mediapipe.python.solution_base.SolutionOutputs'>\n",
      "<class 'mediapipe.python.solution_base.SolutionOutputs'>\n",
      "<class 'mediapipe.python.solution_base.SolutionOutputs'>\n",
      "<class 'mediapipe.python.solution_base.SolutionOutputs'>\n",
      "<class 'mediapipe.python.solution_base.SolutionOutputs'>\n",
      "<class 'mediapipe.python.solution_base.SolutionOutputs'>\n",
      "<class 'mediapipe.python.solution_base.SolutionOutputs'>\n",
      "<class 'mediapipe.python.solution_base.SolutionOutputs'>\n",
      "<class 'mediapipe.python.solution_base.SolutionOutputs'>\n",
      "<class 'mediapipe.python.solution_base.SolutionOutputs'>\n",
      "<class 'mediapipe.python.solution_base.SolutionOutputs'>\n",
      "<class 'mediapipe.python.solution_base.SolutionOutputs'>\n",
      "<class 'mediapipe.python.solution_base.SolutionOutputs'>\n",
      "<class 'mediapipe.python.solution_base.SolutionOutputs'>\n",
      "<class 'mediapipe.python.solution_base.SolutionOutputs'>\n",
      "<class 'mediapipe.python.solution_base.SolutionOutputs'>\n"
     ]
    },
    {
     "ename": "NameError",
     "evalue": "name 'model' is not defined",
     "output_type": "error",
     "traceback": [
      "\u001b[1;31m---------------------------------------------------------------------------\u001b[0m",
      "\u001b[1;31mNameError\u001b[0m                                 Traceback (most recent call last)",
      "\u001b[1;32mc:\\Users\\sharath.narayanaswam\\Desktop\\Body_Pos_detection\\Student_body_position_detection\\Study_detection.ipynb Cell 66\u001b[0m line \u001b[0;36m<cell line: 9>\u001b[1;34m()\u001b[0m\n\u001b[0;32m     <a href='vscode-notebook-cell:/c%3A/Users/sharath.narayanaswam/Desktop/Body_Pos_detection/Student_body_position_detection/Study_detection.ipynb#Y124sZmlsZQ%3D%3D?line=24'>25</a>\u001b[0m sequence \u001b[39m=\u001b[39m sequence[\u001b[39m-\u001b[39m\u001b[39m30\u001b[39m:]\n\u001b[0;32m     <a href='vscode-notebook-cell:/c%3A/Users/sharath.narayanaswam/Desktop/Body_Pos_detection/Student_body_position_detection/Study_detection.ipynb#Y124sZmlsZQ%3D%3D?line=26'>27</a>\u001b[0m \u001b[39mif\u001b[39;00m \u001b[39mlen\u001b[39m(sequence) \u001b[39m==\u001b[39m \u001b[39m30\u001b[39m:\n\u001b[1;32m---> <a href='vscode-notebook-cell:/c%3A/Users/sharath.narayanaswam/Desktop/Body_Pos_detection/Student_body_position_detection/Study_detection.ipynb#Y124sZmlsZQ%3D%3D?line=27'>28</a>\u001b[0m     res \u001b[39m=\u001b[39m model\u001b[39m.\u001b[39mpredict(np\u001b[39m.\u001b[39mexpand_dims(sequence, axis\u001b[39m=\u001b[39m\u001b[39m0\u001b[39m))[\u001b[39m0\u001b[39m]\n\u001b[0;32m     <a href='vscode-notebook-cell:/c%3A/Users/sharath.narayanaswam/Desktop/Body_Pos_detection/Student_body_position_detection/Study_detection.ipynb#Y124sZmlsZQ%3D%3D?line=28'>29</a>\u001b[0m     \u001b[39mprint\u001b[39m(actions[np\u001b[39m.\u001b[39margmax(res)])\n\u001b[0;32m     <a href='vscode-notebook-cell:/c%3A/Users/sharath.narayanaswam/Desktop/Body_Pos_detection/Student_body_position_detection/Study_detection.ipynb#Y124sZmlsZQ%3D%3D?line=29'>30</a>\u001b[0m     predictions\u001b[39m.\u001b[39mappend(np\u001b[39m.\u001b[39margmax(res))\n",
      "\u001b[1;31mNameError\u001b[0m: name 'model' is not defined"
     ]
    },
    {
     "ename": "",
     "evalue": "",
     "output_type": "error",
     "traceback": [
      "\u001b[1;31mThe Kernel crashed while executing code in the the current cell or a previous cell. Please review the code in the cell(s) to identify a possible cause of the failure. Click <a href='https://aka.ms/vscodeJupyterKernelCrash'>here</a> for more info. View Jupyter <a href='command:jupyter.viewOutput'>log</a> for further details."
     ]
    }
   ],
   "source": [
    "# 1. New detection variables\n",
    "sequence = []\n",
    "sentence = []\n",
    "predictions = []\n",
    "threshold = 0.5\n",
    "\n",
    "cap = cv2.VideoCapture(0)\n",
    "# Set mediapipe model \n",
    "with mp_holistic.Holistic(min_detection_confidence=0.5, min_tracking_confidence=0.5) as holistic:\n",
    "    while cap.isOpened():\n",
    "\n",
    "        # Read feed\n",
    "        ret, frame = cap.read()\n",
    "\n",
    "        # Make detections\n",
    "        image, results = mediapipe_detection(frame, holistic)\n",
    "        print(results)\n",
    "        \n",
    "        # Draw landmarks\n",
    "        draw_styled_landmarks(image, results)\n",
    "        \n",
    "        # 2. Prediction logic\n",
    "        keypoints = extract_keypoints(results)\n",
    "        sequence.append(keypoints)\n",
    "        sequence = sequence[-30:]\n",
    "        \n",
    "        if len(sequence) == 30:\n",
    "            res = model.predict(np.expand_dims(sequence, axis=0))[0]\n",
    "            print(actions[np.argmax(res)])\n",
    "            predictions.append(np.argmax(res))\n",
    "            \n",
    "            \n",
    "        #3. Viz logic\n",
    "            if np.unique(predictions[-10:])[0]==np.argmax(res): \n",
    "                if res[np.argmax(res)] > threshold: \n",
    "                    \n",
    "                    if len(sentence) > 0: \n",
    "                        if actions[np.argmax(res)] != sentence[-1]:\n",
    "                            sentence.append(actions[np.argmax(res)])\n",
    "                    else:\n",
    "                        sentence.append(actions[np.argmax(res)])\n",
    "\n",
    "            if len(sentence) > 5: \n",
    "                sentence = sentence[-5:]\n",
    "\n",
    "            # Viz probabilities\n",
    "            image = prob_viz(res, actions, image, colors)\n",
    "            \n",
    "        cv2.rectangle(image, (0,0), (640, 40), (245, 117, 16), -1)\n",
    "        cv2.putText(image, ' '.join(sentence), (3,30), \n",
    "                       cv2.FONT_HERSHEY_SIMPLEX, 1, (255, 255, 255), 2, cv2.LINE_AA)\n",
    "        \n",
    "        # Show to screen\n",
    "        cv2.imshow('OpenCV Feed', image)\n",
    "\n",
    "        # Break gracefully\n",
    "        if cv2.waitKey(10) & 0xFF == ord('q'):\n",
    "            break\n",
    "    cap.release()\n",
    "    cv2.destroyAllWindows()"
   ]
  }
 ],
 "metadata": {
  "kernelspec": {
   "display_name": "batman",
   "language": "python",
   "name": "python3"
  },
  "language_info": {
   "codemirror_mode": {
    "name": "ipython",
    "version": 3
   },
   "file_extension": ".py",
   "mimetype": "text/x-python",
   "name": "python",
   "nbconvert_exporter": "python",
   "pygments_lexer": "ipython3",
   "version": "3.9.16"
  }
 },
 "nbformat": 4,
 "nbformat_minor": 2
}
